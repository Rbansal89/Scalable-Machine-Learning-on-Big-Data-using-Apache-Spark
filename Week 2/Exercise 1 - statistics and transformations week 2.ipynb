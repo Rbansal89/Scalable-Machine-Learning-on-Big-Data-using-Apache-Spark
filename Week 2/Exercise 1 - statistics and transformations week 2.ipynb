{
 "cells": [
  {
   "cell_type": "markdown",
   "metadata": {},
   "source": [
    "This notebook is designed to run in a IBM Watson Studio default runtime (NOT the Watson Studio Apache Spark Runtime as the default runtime with 1 vCPU is free of charge). Therefore, we install Apache Spark in local mode for test purposes only. Please don't use it in production.\n",
    "\n",
    "In case you are facing issues, please read the following two documents first:\n",
    "\n",
    "https://github.com/IBM/skillsnetwork/wiki/Environment-Setup\n",
    "\n",
    "https://github.com/IBM/skillsnetwork/wiki/FAQ\n",
    "\n",
    "Then, please feel free to ask:\n",
    "\n",
    "https://coursera.org/learn/machine-learning-big-data-apache-spark/discussions/all\n",
    "\n",
    "Please make sure to follow the guidelines before asking a question:\n",
    "\n",
    "https://github.com/IBM/skillsnetwork/wiki/FAQ#im-feeling-lost-and-confused-please-help-me\n",
    "\n",
    "\n",
    "If running outside Watson Studio, this should work as well. In case you are running in an Apache Spark context outside Watson Studio, please remove the Apache Spark setup in the first notebook cells."
   ]
  },
  {
   "cell_type": "code",
   "execution_count": 2,
   "metadata": {},
   "outputs": [],
   "source": [
    "#from IPython.display import Markdown, display\n",
    "#def printmd(string):\n",
    " #   display(Markdown('# <span style=\"color:red\">'+string+'</span>'))\n",
    "\n",
    "\n",
    "if ('sc' in locals() or 'sc' in globals()):\n",
    "    printmd('<<<<<!!!!! It seems that you are running in a IBM Watson Studio Apache Spark Notebook. Please run it in an IBM Watson Studio Default Runtime (without Apache Spark) !!!!!>>>>>')\n"
   ]
  },
  {
   "cell_type": "code",
   "execution_count": 3,
   "metadata": {},
   "outputs": [
    {
     "name": "stdout",
     "output_type": "stream",
     "text": [
      "Requirement already satisfied: pyspark==2.4.5 in /opt/conda/envs/Python36/lib/python3.6/site-packages (2.4.5)\r\n",
      "Requirement already satisfied: py4j==0.10.7 in /opt/conda/envs/Python36/lib/python3.6/site-packages (from pyspark==2.4.5) (0.10.7)\r\n"
     ]
    }
   ],
   "source": [
    "!pip install pyspark==2.4.5"
   ]
  },
  {
   "cell_type": "code",
   "execution_count": 7,
   "metadata": {},
   "outputs": [],
   "source": [
    "try:\n",
    "    from pyspark import SparkContext, SparkConf\n",
    "    from pyspark.sql import SparkSession\n",
    "except ImportError as e:\n",
    "    printmd('<<<<<!!!!! Please restart your kernel after installing Apache Spark !!!!!>>>>>')"
   ]
  },
  {
   "cell_type": "code",
   "execution_count": 8,
   "metadata": {},
   "outputs": [],
   "source": [
    "sc = SparkContext.getOrCreate(SparkConf().setMaster(\"local[*]\"))\n",
    "\n",
    "spark = SparkSession \\\n",
    "    .builder \\\n",
    "    .getOrCreate()"
   ]
  },
  {
   "cell_type": "markdown",
   "metadata": {
    "collapsed": true
   },
   "source": [
    "Welcome to exercise one of week two of “Apache Spark for Scalable Machine Learning on BigData”. In this exercise you’ll read a DataFrame in order to perform a simple statistical analysis. Then you’ll rebalance the dataset. No worries, we’ll explain everything to you, let’s get started.\n",
    "\n",
    "Let’s create a data frame from a remote file by downloading it:\n",
    "\n",
    "\n"
   ]
  },
  {
   "cell_type": "code",
   "execution_count": 9,
   "metadata": {},
   "outputs": [
    {
     "name": "stdout",
     "output_type": "stream",
     "text": [
      "--2020-08-04 04:03:56--  https://github.com/IBM/coursera/raw/master/hmp.parquet\n",
      "Resolving github.com (github.com)... 140.82.118.4\n",
      "Connecting to github.com (github.com)|140.82.118.4|:443... connected.\n",
      "HTTP request sent, awaiting response... 301 Moved Permanently\n",
      "Location: https://github.com/IBM/skillsnetwork/raw/master/hmp.parquet [following]\n",
      "--2020-08-04 04:03:56--  https://github.com/IBM/skillsnetwork/raw/master/hmp.parquet\n",
      "Reusing existing connection to github.com:443.\n",
      "HTTP request sent, awaiting response... 302 Found\n",
      "Location: https://raw.githubusercontent.com/IBM/skillsnetwork/master/hmp.parquet [following]\n",
      "--2020-08-04 04:03:56--  https://raw.githubusercontent.com/IBM/skillsnetwork/master/hmp.parquet\n",
      "Resolving raw.githubusercontent.com (raw.githubusercontent.com)... 151.101.112.133\n",
      "Connecting to raw.githubusercontent.com (raw.githubusercontent.com)|151.101.112.133|:443... connected.\n",
      "HTTP request sent, awaiting response... 200 OK\n",
      "Length: 932997 (911K) [application/octet-stream]\n",
      "Saving to: ‘hmp.parquet’\n",
      "\n",
      "100%[======================================>] 932,997     --.-K/s   in 0.03s   \n",
      "\n",
      "2020-08-04 04:03:56 (31.5 MB/s) - ‘hmp.parquet’ saved [932997/932997]\n",
      "\n"
     ]
    }
   ],
   "source": [
    "# delete files from previous runs\n",
    "!rm -f hmp.parquet*\n",
    "\n",
    "# download the file containing the data in PARQUET format\n",
    "!wget https://github.com/IBM/coursera/raw/master/hmp.parquet\n",
    "    \n",
    "# create a dataframe out of it\n",
    "df = spark.read.parquet('hmp.parquet')\n",
    "\n",
    "# register a corresponding query table\n",
    "df.createOrReplaceTempView('df')"
   ]
  },
  {
   "cell_type": "markdown",
   "metadata": {},
   "source": [
    "Let’s have a look at the data set first. This dataset contains sensor recordings from different movement activities as we will see in the next week’s lectures. X, Y and Z contain accelerometer sensor values whereas the class field contains information about which movement has been recorded. The source field is optional and can be used for data lineage since it contains the file name of the original file where the particular row was imported from.\n",
    "\n",
    "More details on the data set can be found here:\n",
    "https://github.com/wchill/HMP_Dataset\n"
   ]
  },
  {
   "cell_type": "code",
   "execution_count": 10,
   "metadata": {},
   "outputs": [
    {
     "name": "stdout",
     "output_type": "stream",
     "text": [
      "+---+---+---+--------------------+-----------+\n",
      "|  x|  y|  z|              source|      class|\n",
      "+---+---+---+--------------------+-----------+\n",
      "| 22| 49| 35|Accelerometer-201...|Brush_teeth|\n",
      "| 22| 49| 35|Accelerometer-201...|Brush_teeth|\n",
      "| 22| 52| 35|Accelerometer-201...|Brush_teeth|\n",
      "| 22| 52| 35|Accelerometer-201...|Brush_teeth|\n",
      "| 21| 52| 34|Accelerometer-201...|Brush_teeth|\n",
      "| 22| 51| 34|Accelerometer-201...|Brush_teeth|\n",
      "| 20| 50| 35|Accelerometer-201...|Brush_teeth|\n",
      "| 22| 52| 34|Accelerometer-201...|Brush_teeth|\n",
      "| 22| 50| 34|Accelerometer-201...|Brush_teeth|\n",
      "| 22| 51| 35|Accelerometer-201...|Brush_teeth|\n",
      "| 21| 51| 33|Accelerometer-201...|Brush_teeth|\n",
      "| 20| 50| 34|Accelerometer-201...|Brush_teeth|\n",
      "| 21| 49| 33|Accelerometer-201...|Brush_teeth|\n",
      "| 21| 49| 33|Accelerometer-201...|Brush_teeth|\n",
      "| 20| 51| 35|Accelerometer-201...|Brush_teeth|\n",
      "| 18| 49| 34|Accelerometer-201...|Brush_teeth|\n",
      "| 19| 48| 34|Accelerometer-201...|Brush_teeth|\n",
      "| 16| 53| 34|Accelerometer-201...|Brush_teeth|\n",
      "| 18| 52| 35|Accelerometer-201...|Brush_teeth|\n",
      "| 18| 51| 32|Accelerometer-201...|Brush_teeth|\n",
      "+---+---+---+--------------------+-----------+\n",
      "only showing top 20 rows\n",
      "\n",
      "root\n",
      " |-- x: integer (nullable = true)\n",
      " |-- y: integer (nullable = true)\n",
      " |-- z: integer (nullable = true)\n",
      " |-- source: string (nullable = true)\n",
      " |-- class: string (nullable = true)\n",
      "\n"
     ]
    }
   ],
   "source": [
    "df.show()\n",
    "df.printSchema()"
   ]
  },
  {
   "cell_type": "markdown",
   "metadata": {},
   "source": [
    "This is a classical classification data set. One thing we always do during data analysis is checking if the classes are balanced. In other words, if there are more or less the same number of example in each class. Let’s find out by a simple aggregation using SQL."
   ]
  },
  {
   "cell_type": "code",
   "execution_count": 11,
   "metadata": {},
   "outputs": [
    {
     "name": "stdout",
     "output_type": "stream",
     "text": [
      "+--------------+--------+\n",
      "|         class|count(1)|\n",
      "+--------------+--------+\n",
      "| Use_telephone|   15225|\n",
      "| Standup_chair|   25417|\n",
      "|      Eat_meat|   31236|\n",
      "|     Getup_bed|   45801|\n",
      "|   Drink_glass|   42792|\n",
      "|    Pour_water|   41673|\n",
      "|     Comb_hair|   23504|\n",
      "|          Walk|   92254|\n",
      "|  Climb_stairs|   40258|\n",
      "| Sitdown_chair|   25036|\n",
      "|   Liedown_bed|   11446|\n",
      "|Descend_stairs|   15375|\n",
      "|   Brush_teeth|   29829|\n",
      "|      Eat_soup|    6683|\n",
      "+--------------+--------+\n",
      "\n"
     ]
    }
   ],
   "source": [
    "spark.sql('select class,count(*) from df group by class').show()"
   ]
  },
  {
   "cell_type": "markdown",
   "metadata": {},
   "source": [
    "As you can see there is quite an imbalance between classes. Before we dig into this, let’s re-write the same query using the DataFrame API – just in case you are not familiar with SQL. As we’ve learned before, it doesn’t matter if you express your queries with SQL or the DataFrame API – it all gets boiled down into the same execution plan optimized by Tungsten and accelerated by Catalyst. You can even mix and match SQL and DataFrame API code if you like.\n",
    "\n",
    "Again, more details on the API can be found here:\n",
    "https://spark.apache.org/docs/latest/api/python/pyspark.sql.html#pyspark.sql.DataFrame\n"
   ]
  },
  {
   "cell_type": "code",
   "execution_count": 12,
   "metadata": {},
   "outputs": [
    {
     "name": "stdout",
     "output_type": "stream",
     "text": [
      "+--------------+-----+\n",
      "|         class|count|\n",
      "+--------------+-----+\n",
      "| Use_telephone|15225|\n",
      "| Standup_chair|25417|\n",
      "|      Eat_meat|31236|\n",
      "|     Getup_bed|45801|\n",
      "|   Drink_glass|42792|\n",
      "|    Pour_water|41673|\n",
      "|     Comb_hair|23504|\n",
      "|          Walk|92254|\n",
      "|  Climb_stairs|40258|\n",
      "| Sitdown_chair|25036|\n",
      "|   Liedown_bed|11446|\n",
      "|Descend_stairs|15375|\n",
      "|   Brush_teeth|29829|\n",
      "|      Eat_soup| 6683|\n",
      "+--------------+-----+\n",
      "\n"
     ]
    }
   ],
   "source": [
    "df.groupBy('class').count().show()"
   ]
  },
  {
   "cell_type": "markdown",
   "metadata": {},
   "source": [
    "Let’s create a bar plot from this data. We’re using the pixidust library, which is Open Source, because of its simplicity. But any other library like matplotlib is fine as well. "
   ]
  },
  {
   "cell_type": "code",
   "execution_count": null,
   "metadata": {
    "pixiedust": {
     "displayParams": {
      "handlerId": "barChart",
      "keyFields": "class",
      "legend": "true",
      "mpld3": "false",
      "orientation": "horizontal",
      "rendererId": "matplotlib",
      "sortby": "Values ASC",
      "valueFields": "count"
     }
    },
    "scrolled": true
   },
   "outputs": [
    {
     "data": {
      "text/html": [
       "<style type=\"text/css\">.pd_warning{display:none;}</style><div class=\"pd_warning\"><em>Hey, there's something awesome here! To see it, open this notebook outside GitHub, in a viewer like Jupyter</em></div>\n",
       "        <div class=\"pd_save is-viewer-good\" style=\"padding-right:10px;text-align: center;line-height:initial !important;font-size: xx-large;font-weight: 500;color: coral;\">\n",
       "            \n",
       "        </div>\n",
       "    <div id=\"chartFigure691a01f3\" class=\"pd_save is-viewer-good\" style=\"overflow-x:auto\">\n",
       "            \n",
       "                    \n",
       "                            <center><img style=\"max-width:initial !important\" src=\"data:image/png;base64,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\" class=\"pd_save\"></center>\n",
       "                        \n",
       "                    \n",
       "                \n",
       "        </div>"
      ],
      "text/plain": [
       "<IPython.core.display.HTML object>"
      ]
     },
     "metadata": {},
     "output_type": "display_data"
    }
   ],
   "source": [
    "import pixiedust\n",
    "from pyspark.sql.functions import col\n",
    "counts = df.groupBy('class').count().orderBy('count')\n",
    "display(counts)"
   ]
  },
  {
   "cell_type": "markdown",
   "metadata": {},
   "source": [
    "This looks nice, but it would be nice if we can aggregate further to obtain some quantitative metrics on the imbalance like, min, max, mean and standard deviation. If we divide max by min we get a measure called minmax ration which tells us something about the relationship between the smallest and largest class. Again, let’s first use SQL for those of you familiar with SQL. Don’t be scared, we’re used nested sub-selects, basically selecting from a result of a SQL query like it was a table. All within on SQL statement."
   ]
  },
  {
   "cell_type": "code",
   "execution_count": 14,
   "metadata": {},
   "outputs": [
    {
     "name": "stdout",
     "output_type": "stream",
     "text": [
      "+----+-----+------------------+------------------+-----------------+\n",
      "| min|  max|              mean|            stddev|      minmaxratio|\n",
      "+----+-----+------------------+------------------+-----------------+\n",
      "|6683|92254|31894.928571428572|21284.893716741157|13.80427951518779|\n",
      "+----+-----+------------------+------------------+-----------------+\n",
      "\n"
     ]
    }
   ],
   "source": [
    "spark.sql('''\n",
    "    select \n",
    "        *,\n",
    "        max/min as minmaxratio -- compute minmaxratio based on previously computed values\n",
    "        from (\n",
    "            select \n",
    "                min(ct) as min, -- compute minimum value of all classes\n",
    "                max(ct) as max, -- compute maximum value of all classes\n",
    "                mean(ct) as mean, -- compute mean between all classes\n",
    "                stddev(ct) as stddev -- compute standard deviation between all classes\n",
    "                from (\n",
    "                    select\n",
    "                        count(*) as ct -- count the number of rows per class and rename it to ct\n",
    "                        from df -- access the temporary query table called df backed by DataFrame df\n",
    "                        group by class -- aggrecate over class\n",
    "                )\n",
    "        )   \n",
    "''').show()"
   ]
  },
  {
   "cell_type": "markdown",
   "metadata": {},
   "source": [
    "The same query can be expressed using the DataFrame API. Again, don’t be scared. It’s just a sequential expression of transformation steps. You now an choose which syntax you like better."
   ]
  },
  {
   "cell_type": "code",
   "execution_count": 11,
   "metadata": {},
   "outputs": [
    {
     "name": "stdout",
     "output_type": "stream",
     "text": [
      "+----+-----+------------------+------------------+-----------------+\n",
      "| min|  max|              mean|            stddev|      minmaxratio|\n",
      "+----+-----+------------------+------------------+-----------------+\n",
      "|6683|92254|31894.928571428572|21284.893716741157|13.80427951518779|\n",
      "+----+-----+------------------+------------------+-----------------+\n",
      "\n"
     ]
    }
   ],
   "source": [
    "from pyspark.sql.functions import col, min, max, mean, stddev\n",
    "\n",
    "df \\\n",
    "    .groupBy('class') \\\n",
    "    .count() \\\n",
    "    .select([ \n",
    "        min(col(\"count\")).alias('min'), \n",
    "        max(col(\"count\")).alias('max'), \n",
    "        mean(col(\"count\")).alias('mean'), \n",
    "        stddev(col(\"count\")).alias('stddev') \n",
    "    ]) \\\n",
    "    .select([\n",
    "        col('*'),\n",
    "        (col(\"max\") / col(\"min\")).alias('minmaxratio')\n",
    "    ]) \\\n",
    "    .show()\n"
   ]
  },
  {
   "cell_type": "markdown",
   "metadata": {},
   "source": [
    "Now it’s time for you to work on the data set. First, please create a table of all classes with the respective counts, but this time, please order the table by the count number, ascending."
   ]
  },
  {
   "cell_type": "code",
   "execution_count": 19,
   "metadata": {
    "scrolled": true
   },
   "outputs": [
    {
     "name": "stdout",
     "output_type": "stream",
     "text": [
      "+--------------+-----+\n",
      "|         class|count|\n",
      "+--------------+-----+\n",
      "|      Eat_soup| 6683|\n",
      "|   Liedown_bed|11446|\n",
      "| Use_telephone|15225|\n",
      "|Descend_stairs|15375|\n",
      "|     Comb_hair|23504|\n",
      "| Sitdown_chair|25036|\n",
      "| Standup_chair|25417|\n",
      "|   Brush_teeth|29829|\n",
      "|      Eat_meat|31236|\n",
      "|  Climb_stairs|40258|\n",
      "|    Pour_water|41673|\n",
      "|   Drink_glass|42792|\n",
      "|     Getup_bed|45801|\n",
      "|          Walk|92254|\n",
      "+--------------+-----+\n",
      "\n"
     ]
    }
   ],
   "source": [
    "#$$$ your code goes here\n",
    "\n",
    "df.groupby('class').count().orderBy('count').show()"
   ]
  },
  {
   "cell_type": "markdown",
   "metadata": {},
   "source": [
    "Pixiedust is a very sophisticated library. It takes care of sorting as well. Please modify the bar chart so that it gets sorted by the number of elements per class, ascending. Hint: It’s an option available in the UI once rendered using the display() function."
   ]
  },
  {
   "cell_type": "code",
   "execution_count": 22,
   "metadata": {
    "pixiedust": {
     "displayParams": {
      "aggregation": "SUM",
      "handlerId": "barChart",
      "keyFields": "class",
      "orientation": "horizontal",
      "sortby": "Values ASC",
      "timeseries": "false",
      "title": "count",
      "valueFields": "count"
     }
    }
   },
   "outputs": [
    {
     "data": {
      "text/html": [
       "<style type=\"text/css\">.pd_warning{display:none;}</style><div class=\"pd_warning\"><em>Hey, there's something awesome here! To see it, open this notebook outside GitHub, in a viewer like Jupyter</em></div><img style=\"max-width:initial !important\" src=\"data:image/png;base64,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\" class=\"pd_save is-viewer-good\">"
      ],
      "text/plain": [
       "<IPython.core.display.HTML object>"
      ]
     },
     "metadata": {},
     "output_type": "display_data"
    }
   ],
   "source": [
    "#$$$ your code goes here\n",
    "\n",
    "counts1 = df.groupBy('class').count().orderBy('count')\n",
    "display(counts1)"
   ]
  },
  {
   "cell_type": "markdown",
   "metadata": {},
   "source": [
    "Imbalanced classes can cause pain in machine learning. Therefore let’s rebalance. In the flowing we limit the number of elements per class to the amount of the least represented class. This is called undersampling. Other ways of rebalancing can be found here:\n",
    "\n",
    "https://machinelearningmastery.com/tactics-to-combat-imbalanced-classes-in-your-machine-learning-dataset/"
   ]
  },
  {
   "cell_type": "code",
   "execution_count": 56,
   "metadata": {},
   "outputs": [],
   "source": [
    "from pyspark.sql.functions import min\n",
    "\n",
    "# create a lot of distinct classes from the dataset\n",
    "classes = [row[0] for row in df.select('class').distinct().collect()]\n",
    "\n",
    "# compute the number of elements of the smallest class in order to limit the number of samples per calss\n",
    "min = df.groupBy('class').count().select(min('count')).first()[0]\n",
    "\n",
    "# define the result dataframe variable\n",
    "df_balanced = None\n",
    "# iterate over distinct classes\n",
    "for cls in classes:\n",
    "    \n",
    "    # only select examples for the specific class within this iteration\n",
    "    # shuffle the order of the elements (by setting fraction to 1.0 sample works like shuffle)\n",
    "    # return only the first n samples\n",
    "    df_temp = df \\\n",
    "        .filter(\"class = '\"+cls+\"'\") \\\n",
    "        .sample(False, 1.0) \\\n",
    "        .limit(min)\n",
    "    \n",
    "    # on first iteration, assing df_temp to empty df_balanced\n",
    "    if df_balanced == None:    \n",
    "        df_balanced = df_temp\n",
    "    # afterwards, append vertically\n",
    "    else:\n",
    "        df_balanced=df_balanced.union(df_temp)\n"
   ]
  },
  {
   "cell_type": "markdown",
   "metadata": {},
   "source": [
    "Please verify, by using the code cell below, if df_balanced has the same number of elements per class. You should get 6683 elements per class."
   ]
  },
  {
   "cell_type": "code",
   "execution_count": 98,
   "metadata": {},
   "outputs": [
    {
     "name": "stdout",
     "output_type": "stream",
     "text": [
      "[1, 1, 1, 2, 2, 3, 4, 4, 5, 32, 34, 34] 12\n"
     ]
    }
   ],
   "source": [
    "lst = [1,2,4,5,34,1,32,4,34,2,1,3]\n",
    "\n",
    "print(sorted(lst), len(lst))"
   ]
  },
  {
   "cell_type": "code",
   "execution_count": 101,
   "metadata": {},
   "outputs": [
    {
     "name": "stdout",
     "output_type": "stream",
     "text": [
      "8.8\n",
      "10.562196741208714\n",
      "3.663124005193276\n"
     ]
    }
   ],
   "source": [
    "list1 = [34,1,23,4,3,3,12,4,3,1]\n",
    "\n",
    "rdd1 = sc.parallelize(list1)\n",
    "\n",
    "n = rdd1.count()\n",
    "mean = rdd1.sum()/float(n)\n",
    "print(mean)\n",
    "\n",
    "\n",
    "import math\n",
    "\n",
    "\n",
    "std = math.sqrt(rdd1.map(lambda x : pow(x-mean,2)).sum()/float(n))\n",
    "print(std)\n",
    "\n",
    "kutosis = rdd1.map(lambda x: pow(x-mean,4)/pow(std,4)).sum()/float(n)\n",
    "print(kutosis)"
   ]
  },
  {
   "cell_type": "code",
   "execution_count": 103,
   "metadata": {},
   "outputs": [
    {
     "name": "stdout",
     "output_type": "stream",
     "text": [
      "5.5 count 10\n",
      "6.7\n",
      "cov 3.65\n",
      "2.8722813232690143\n",
      "1.7916472867168918\n",
      "0.7092729120837249\n"
     ]
    }
   ],
   "source": [
    "listx = [1,2,3,4,5,6,7,8,9,10]\n",
    "listy = [7,6,5,4,5,6,7,8,9,10]\n",
    "\n",
    "rddx = sc.parallelize(listx)\n",
    "rddy = sc.parallelize(listy)\n",
    "n = rddx.count()\n",
    "mx = rddx.sum()/float(n)\n",
    "my = rddy.sum()/float(n)\n",
    "print(mx, 'count', n)\n",
    "print(my)\n",
    "rddxy = rddx.zip(rddy)\n",
    "cov = rddxy.map(lambda x: (x[0] - mx)*(x[1]-my)).sum()/rddxy.count()\n",
    "\n",
    "print('cov',cov)\n",
    "\n",
    "sdx = math.sqrt(rddx.map(lambda x : pow(x-mx,2)).sum()/float(n))\n",
    "print(sdx)\n",
    "sdy = math.sqrt(rddy.map(lambda x : pow(x-my,2)).sum()/float(n))\n",
    "print(sdy)\n",
    "\n",
    "corr = cov/ (sdx*sdy)\n",
    "\n",
    "print(corr)"
   ]
  },
  {
   "cell_type": "code",
   "execution_count": 61,
   "metadata": {
    "pixiedust": {
     "displayParams": {
      "handlerId": "barChart",
      "keyFields": "class",
      "orientation": "horizontal",
      "rowCount": "100",
      "title": "count balanced",
      "valueFields": "count"
     }
    }
   },
   "outputs": [
    {
     "data": {
      "text/html": [
       "<style type=\"text/css\">.pd_warning{display:none;}</style><div class=\"pd_warning\"><em>Hey, there's something awesome here! To see it, open this notebook outside GitHub, in a viewer like Jupyter</em></div>\n",
       "        <div class=\"pd_save is-viewer-good\" style=\"padding-right:10px;text-align: center;line-height:initial !important;font-size: xx-large;font-weight: 500;color: coral;\">\n",
       "            count balanced\n",
       "        </div>\n",
       "    <div id=\"chartFigure79837f15\" class=\"pd_save is-viewer-good\" style=\"overflow-x:auto\">\n",
       "            \n",
       "                    \n",
       "                            <center><img style=\"max-width:initial !important\" src=\"data:image/png;base64,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\" class=\"pd_save\"></center>\n",
       "                        \n",
       "                    \n",
       "                \n",
       "        </div>"
      ],
      "text/plain": [
       "<IPython.core.display.HTML object>"
      ]
     },
     "metadata": {},
     "output_type": "display_data"
    }
   ],
   "source": [
    "#$$$\n",
    "\n",
    "#df_balanced.show()\n",
    "print(df_balanced.groupby('class').count().orderBy('count').show())\n",
    "\n",
    "count = df_balanced.groupby('class').count().orderBy('count')\n",
    "\n",
    "display(count)"
   ]
  }
 ],
 "metadata": {
  "kernelspec": {
   "display_name": "Python 3.6",
   "language": "python",
   "name": "python3"
  },
  "language_info": {
   "codemirror_mode": {
    "name": "ipython",
    "version": 3
   },
   "file_extension": ".py",
   "mimetype": "text/x-python",
   "name": "python",
   "nbconvert_exporter": "python",
   "pygments_lexer": "ipython3",
   "version": "3.6.9"
  }
 },
 "nbformat": 4,
 "nbformat_minor": 1
}
